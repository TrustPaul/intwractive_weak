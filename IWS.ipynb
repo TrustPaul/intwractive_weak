{
 "cells": [
  {
   "cell_type": "markdown",
   "metadata": {},
   "source": [
    "# Interactive Weak Supervision \n",
    "\n",
    "This notebook contains code to perform the same experiments on text data as in:\n",
    "\n",
    "Boecking, B., Neiswanger, W., Xing, E.P., & Dubrawski, A. (2021). [Interactive Weak Supervision: Learning Useful Heuristics for Data Labeling](https://arxiv.org/abs/2012.06046). *International Conference on Learning Representations (ICLR).*\n"
   ]
  },
  {
   "cell_type": "markdown",
   "metadata": {},
   "source": [
    "# We'll take care of all imports first"
   ]
  },
  {
   "cell_type": "code",
   "execution_count": 1,
   "metadata": {},
   "outputs": [],
   "source": [
    "import os\n",
    "import pickle\n",
    "import numpy as np\n",
    "import torch\n",
    "import pandas as pd\n",
    "from utils import AVAILABLEDATASETS\n",
    "from sklearn.feature_extraction.text import CountVectorizer\n",
    "from sklearn.decomposition import TruncatedSVD\n",
    "from sklearn.metrics import roc_auc_score\n",
    "import matplotlib.pyplot as plt\n",
    "from snorkel.labeling.model import LabelModel\n",
    "from torchmodels import TorchMLP\n",
    "\n",
    "from utils import generate_ngram_LFs, get_final_set, train_end_classifier\n",
    "from iws import InteractiveWeakSupervision"
   ]
  },
  {
   "cell_type": "markdown",
   "metadata": {},
   "source": [
    "# Available datasets\n",
    "If you have not yet downloaded the text datasets used in our paper, first run:\n",
    "```bash\n",
    "cd datasets\n",
    "wget https://ndownloader.figshare.com/files/25732838?private_link=860788136944ad107def -O iws_datasets.tar.gz\n",
    "tar -xzvf iws_datasets.tar.gz\n",
    "rm iws_datasets.tar.gz\n",
    "```\n"
   ]
  },
  {
   "cell_type": "code",
   "execution_count": 2,
   "metadata": {},
   "outputs": [
    {
     "name": "stdout",
     "output_type": "stream",
     "text": [
      "IMDB.csv\n",
      "professor_physician.csv\n",
      "painter_architect.csv\n",
      "professor_teacher.csv\n",
      "journalist_photographer.csv\n",
      "Amazon.csv\n"
     ]
    }
   ],
   "source": [
    "print('\\n'.join([x for x in os.listdir('datasets') if x.endswith('.csv')]))"
   ]
  },
  {
   "cell_type": "markdown",
   "metadata": {},
   "source": [
    "# In this version of the notebook, we'll demonstrate IWS with the IMDB sentiment analysis dataset"
   ]
  },
  {
   "cell_type": "code",
   "execution_count": 3,
   "metadata": {},
   "outputs": [],
   "source": [
    "dname = 'IMDB'"
   ]
  },
  {
   "cell_type": "markdown",
   "metadata": {},
   "source": [
    "# Load data"
   ]
  },
  {
   "cell_type": "code",
   "execution_count": 4,
   "metadata": {},
   "outputs": [],
   "source": [
    "df = pd.read_csv('datasets/%s.csv'%dname)\n",
    "corpus = df[df.fold==0].text.tolist()\n",
    "corpus_test = df[df.fold==1].text.tolist()\n",
    "\n",
    "Ytrain = df[df.fold==0].label.to_numpy()\n",
    "Ytest = df[df.fold==1].label.to_numpy()"
   ]
  },
  {
   "cell_type": "markdown",
   "metadata": {},
   "source": [
    "# Create features for the end classifier we will train\n",
    "We create simple bag of words features for each document to avoid influencing final results by using pretrained embeddings. "
   ]
  },
  {
   "cell_type": "code",
   "execution_count": 5,
   "metadata": {},
   "outputs": [],
   "source": [
    "# Build 1-gram vocabulary. \n",
    "mindf = 10.0/len(corpus)\n",
    "vectorizer = CountVectorizer(strip_accents='ascii',stop_words='english',ngram_range=(1, 1), analyzer='word', max_df=0.90, min_df=mindf, max_features=None, vocabulary=None, binary=False)\n",
    "Xunigram = vectorizer.fit_transform(corpus)\n",
    "Xunigramtest = vectorizer.transform(corpus_test)\n",
    "n,m = Xunigram.shape\n",
    "if m < 300:\n",
    "    Xsvd = np.asarray(Xunigram.todense()).astype(np.float32)\n",
    "    Xtestsvd = np.asarray(Xunigramtest.todense()).astype(np.float32)\n",
    "else:        \n",
    "    svd = TruncatedSVD(n_components=300, n_iter=20, random_state=42)\n",
    "    Xsvd = svd.fit_transform(Xunigram).astype(np.float32)\n",
    "    Xtestsvd = svd.transform(Xunigramtest).astype(np.float32)\n"
   ]
  },
  {
   "cell_type": "markdown",
   "metadata": {},
   "source": [
    "# Generate large number of candidate LFs on text\n",
    "## generate unigram LFs\n",
    "\n",
    "We generate a large number of heuristics as well as a description to show to experts"
   ]
  },
  {
   "cell_type": "code",
   "execution_count": 6,
   "metadata": {},
   "outputs": [],
   "source": [
    "LFs,lf_descriptions = generate_ngram_LFs(corpus,'unigram')"
   ]
  },
  {
   "cell_type": "markdown",
   "metadata": {},
   "source": [
    "## Create LF features\n",
    "IWS will use these features to predict probability that an LF is better than random"
   ]
  },
  {
   "cell_type": "code",
   "execution_count": 7,
   "metadata": {},
   "outputs": [],
   "source": [
    "svd = TruncatedSVD(n_components=150, n_iter=20, random_state=42)\n",
    "LFfeatures = svd.fit_transform(LFs.T).astype(np.float32)"
   ]
  },
  {
   "cell_type": "markdown",
   "metadata": {},
   "source": [
    "# Choose some LFs to initialize the algorithm\n",
    "\n",
    "## **!!These need to be changed if you are not using the IMDB dataset!!**"
   ]
  },
  {
   "cell_type": "code",
   "execution_count": 8,
   "metadata": {},
   "outputs": [
    {
     "name": "stdout",
     "output_type": "stream",
     "text": [
      "contains term: adorable. LF vote: positive sentiment\n",
      "contains term: witty. LF vote: positive sentiment\n",
      "contains term: hated. LF vote: negative sentiment\n",
      "contains term: stereotypical. LF vote: negative sentiment\n"
     ]
    }
   ],
   "source": [
    "# Let's hand pick some words to start with\n",
    "positive_sentiment_words = ['adorable','witty']\n",
    "negative_sentimen_words = ['stereotypical','hated']\n",
    "start_idxs = []\n",
    "halfway= int(len(lf_descriptions)/2)# we generated positive LFs first, then negative\n",
    "# iterate over positive LFs\n",
    "for i,desc in enumerate(lf_descriptions[:halfway]):\n",
    "    for word in positive_sentiment_words:\n",
    "        if word in desc:\n",
    "            start_idxs.append(i)\n",
    "            if len(start_idxs)==2:\n",
    "                break\n",
    "    if len(start_idxs)==2:\n",
    "        break\n",
    "\n",
    "# iterate over negative LFs\n",
    "for i,desc in enumerate(lf_descriptions[halfway:]):\n",
    "    idx = halfway+i\n",
    "    for word in negative_sentimen_words:\n",
    "        if word in desc:\n",
    "            start_idxs.append(idx)\n",
    "            if len(start_idxs)==4:\n",
    "                break\n",
    "    if len(start_idxs)==4:\n",
    "        break\n",
    "for i in start_idxs:\n",
    "    print(lf_descriptions[i])"
   ]
  },
  {
   "cell_type": "markdown",
   "metadata": {},
   "source": [
    "# Now, let's use 'IWS LSE ac' to discover additional good LFs\n",
    "This is a simple implementation meant for text documents. It is pretty straightforward to create a more sophisticated version. Here are some ideas:\n",
    "- Highlight the patterns in random documents that LFs pick up on. \n",
    "- Display examples for other data types, e.g. where a motif matches a subsequence in a time series. \n",
    "- Improve the efficiency of the user queries: e.g. let the user tell you the label a target pattern should output. Or let the user flip the output label of a labeling function. "
   ]
  },
  {
   "cell_type": "markdown",
   "metadata": {},
   "source": [
    "## Decide if you want to automate the oracle, or be the expert yourself"
   ]
  },
  {
   "cell_type": "code",
   "execution_count": 9,
   "metadata": {},
   "outputs": [],
   "source": [
    "auto=True"
   ]
  },
  {
   "cell_type": "markdown",
   "metadata": {},
   "source": [
    "### Automated Oracle:\n",
    "\n",
    "We will do two runs, of 100 iterations each (we did 10 runs of 200 in the paper)"
   ]
  },
  {
   "cell_type": "code",
   "execution_count": 10,
   "metadata": {},
   "outputs": [
    {
     "name": "stdout",
     "output_type": "stream",
     "text": [
      "|████████████████████████████████████████████████████████████████████████████████████████████████████|100.0% 150/150\n",
      "|████████████████████████████████████████████████████████████████████████████████████████████████████|100.0% 150/150\n"
     ]
    }
   ],
   "source": [
    "if auto:\n",
    "    initial_labels = {i:1 for i in start_idxs}\n",
    "    saveinfo = {'dname':dname,'lftype':'unigram'}\n",
    "    savedir='%s_test'%dname\n",
    "    savetodisc = False\n",
    "    username = 'user'\n",
    "    numthreads = min(10, os.cpu_count())\n",
    "    IWSsession = InteractiveWeakSupervision(LFs,LFfeatures,lf_descriptions,initial_labels,acquisition='LSE', r=0.6,\n",
    "                                            Ytrue=Ytrain, auto=auto, corpus=corpus, save_to_disc=savetodisc, savedir=savedir, \n",
    "                                            saveinfo=saveinfo, username=username, progressbar=True,\n",
    "                                            ensemblejobs=numthreads,numshow=2)\n",
    "    IWSsession.run_experiments(num_iter = 150)\n",
    "    IWSsession.run_experiments(num_iter = 150)\n",
    "    IWSsession.model.mpool.close()\n",
    "    IWSsession.model.mpool.join()\n",
    "    "
   ]
  },
  {
   "cell_type": "markdown",
   "metadata": {},
   "source": [
    "### Answer questions yourself: \n",
    "You can skip this and the next cell if you chose to automate the oracle.\n",
    "\n",
    "### Instructions\n",
    "- Pay attention to the **term AND the label** the LF will output if the term appears\n",
    "- Select 'Useful heuristic' if you believe it would label documents at better than random accuracy\n",
    "- Select 'NOT a useful heuristic' if you think the heuristic will just be random or worse than random\n",
    "- Select 'I don't know' if you are unsure.\n",
    "- Select 'Likely useful' or 'Likely NOT useful' if you are leaning towards an option but aren't quite sure\n",
    "\n",
    "Please note:\n",
    "- The first 4 questions will be randomly chosen LFs\n",
    "- It may take a few iterations until the algorithm really piks up and the suggestions look good\n",
    "    - Once this happens, continue to read the descriptions carefully and make sure the label aligns with your intuition. For example 'horrible' is a good keyword, but only for negative sentiment.\n",
    "    \n",
    "    \n",
    "    \n",
    "Examples of useful heuristics:\n",
    "- Description of heuristic: contains term: fabulous. LF vote: positive sentiment\n",
    "- Description of heuristic: contains term: boring. LF vote: negative sentiment\n",
    "\n",
    "Examples of heuristics that are NOT useful\n",
    "- Description of heuristic: contains term: cloud. LF vote: positive sentiment\n",
    "- Description of heuristic: contains term: suggested. LF vote: positive sentiment\n",
    "\n",
    "Example of likely useful heuristic\n",
    "- Description of heuristic: contains term: money. LF vote: negative sentiment\n",
    "    - Likely to appear in context of \"save your money\". \"Waste of money\". "
   ]
  },
  {
   "cell_type": "code",
   "execution_count": 11,
   "metadata": {
    "scrolled": false
   },
   "outputs": [],
   "source": [
    "if not auto:\n",
    "    initial_labels = {i:1 for i in start_idxs}\n",
    "    saveinfo = {'dname':dname,'lftype':'unigram'}\n",
    "    savedir='%s_test'%dname\n",
    "    savetodisc = False\n",
    "    username = 'user'\n",
    "    numthreads = min(10, os.cpu_count())\n",
    "    IWSsession = InteractiveWeakSupervision(LFs,LFfeatures,lf_descriptions,initial_labels,acquisition='LSE', r=0.6, \n",
    "                                            auto=False, oracle_response=None,\n",
    "                                            corpus=corpus, fname_prefix='',save_to_disc=savetodisc, savedir=savedir, saveinfo=saveinfo, username=username, progressbar=True,\n",
    "                                            ensemblejobs=numthreads,numshow=2)\n",
    "    IWSsession.run_experiments(num_iter = 50)"
   ]
  },
  {
   "cell_type": "markdown",
   "metadata": {},
   "source": [
    "# Obtain the final set"
   ]
  },
  {
   "cell_type": "code",
   "execution_count": 12,
   "metadata": {},
   "outputs": [],
   "source": [
    "LFsets = get_final_set('LSE ac',IWSsession,npredict=200,r=None)"
   ]
  },
  {
   "cell_type": "markdown",
   "metadata": {},
   "source": [
    "# Train and evaluate a downstream classifier"
   ]
  },
  {
   "cell_type": "code",
   "execution_count": 13,
   "metadata": {},
   "outputs": [],
   "source": [
    "if torch.cuda.is_available():\n",
    "    device='cuda'\n",
    "else:\n",
    "    device='cpu'"
   ]
  },
  {
   "cell_type": "code",
   "execution_count": 14,
   "metadata": {},
   "outputs": [
    {
     "name": "stdout",
     "output_type": "stream",
     "text": [
      "IWS run: 1  iteration: 0\n",
      "IWS run: 1  iteration: 20\n",
      "IWS run: 1  iteration: 40\n",
      "IWS run: 1  iteration: 60\n",
      "IWS run: 1  iteration: 80\n",
      "IWS run: 1  iteration: 100\n",
      "IWS run: 1  iteration: 120\n",
      "IWS run: 1  iteration: 140\n",
      "IWS run: 1  iteration: 149\n",
      "IWS run: 2  iteration: 0\n",
      "IWS run: 2  iteration: 20\n",
      "IWS run: 2  iteration: 40\n",
      "IWS run: 2  iteration: 60\n",
      "IWS run: 2  iteration: 80\n",
      "IWS run: 2  iteration: 100\n",
      "IWS run: 2  iteration: 120\n",
      "IWS run: 2  iteration: 140\n",
      "IWS run: 2  iteration: 149\n"
     ]
    }
   ],
   "source": [
    "downstream_results = train_end_classifier(Xsvd,Xtestsvd,IWSsession,LFsets,device=device,gap=20,verbose=True)"
   ]
  },
  {
   "cell_type": "markdown",
   "metadata": {},
   "source": [
    "# Let's plot the test set performance\n",
    "We'll evaluate end classifier performance based on test AUC. Note that metrics such as f1 or accuracy require a fixed decision threshold, so you may want to ensure the scores are well calibrated and pay attention to class balance (or estimates thereof). "
   ]
  },
  {
   "cell_type": "code",
   "execution_count": 15,
   "metadata": {},
   "outputs": [],
   "source": [
    "Ytestzeroone = np.copy(Ytest).astype(np.float32)\n",
    "if -1 in Ytest:    \n",
    "    # map to 0,1 if labels in -1,1\n",
    "    Ytestzeroone[Ytestzeroone==-1] = 0"
   ]
  },
  {
   "cell_type": "code",
   "execution_count": 16,
   "metadata": {},
   "outputs": [],
   "source": [
    "xs = list(downstream_results[1].keys())\n",
    "yres = []\n",
    "for key in downstream_results.keys():\n",
    "    yres.append([roc_auc_score(Ytestzeroone,downstream_results[key][x]) for x in xs])\n",
    "yres= np.array(yres)"
   ]
  },
  {
   "cell_type": "code",
   "execution_count": 17,
   "metadata": {},
   "outputs": [
    {
     "data": {
      "image/png": "[encoded data removed]",
      "text/plain": [
       "<Figure size 432x288 with 1 Axes>"
      ]
     },
     "metadata": {},
     "output_type": "display_data"
    }
   ],
   "source": [
    "with plt.style.context('seaborn-whitegrid'): \n",
    "    plt.figure(figsize=(6,4))\n",
    "    plt.errorbar(xs,yres.mean(0),yerr=yres.std(0),label='IWS LSE ac')\n",
    "    plt.ylabel('Test AUC')\n",
    "    plt.xlabel('IWS iteration')\n",
    "    plt.title(dname)\n",
    "    plt.grid()\n",
    "    plt.show()"
   ]
  }
 ],
 "metadata": {
  "kernelspec": {
   "display_name": "Python 3",
   "language": "python",
   "name": "python3"
  },
  "language_info": {
   "codemirror_mode": {
    "name": "ipython",
    "version": 3
   },
   "file_extension": ".py",
   "mimetype": "text/x-python",
   "name": "python",
   "nbconvert_exporter": "python",
   "pygments_lexer": "ipython3",
   "version": "3.7.9"
  }
 },
 "nbformat": 4,
 "nbformat_minor": 4
}
